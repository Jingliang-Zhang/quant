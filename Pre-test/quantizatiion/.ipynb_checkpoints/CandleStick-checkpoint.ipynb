{
 "cells": [
  {
   "cell_type": "code",
   "execution_count": 1,
   "metadata": {},
   "outputs": [],
   "source": [
    "import mplfinance as mpl"
   ]
  },
  {
   "cell_type": "code",
   "execution_count": 1,
   "metadata": {},
   "outputs": [],
   "source": [
    "def candle_stick(df, desc=None):\n",
    "    note = ''\n",
    "    if desc is not None:\n",
    "        note = desc\n",
    "    mpl.plot(df, type='candle', linecolor='#00ff00', volume=True, show_nontrading=False, figscale=1, \n",
    "             figratio=[8, 5.75], \n",
    "             title='{}\\n[{} {}]\\n{}'.format(note, df.index[0], df.index[-1], df['Name'][0]), ylabel='OHLC Candle', \n",
    "             ylabel_lower='Shares\\nTraded', style='mike', mav=[3, 6, 9])"
   ]
  },
  {
   "cell_type": "code",
   "execution_count": 6,
   "metadata": {},
   "outputs": [
    {
     "name": "stdout",
     "output_type": "stream",
     "text": [
      "Help on function decorator in module mplfinance.plotting:\n",
      "\n",
      "decorator(*args, **kwargs)\n",
      "\n"
     ]
    }
   ],
   "source": [
    "help(mpl.plot)"
   ]
  },
  {
   "cell_type": "code",
   "execution_count": null,
   "metadata": {},
   "outputs": [],
   "source": []
  }
 ],
 "metadata": {
  "kernelspec": {
   "display_name": "Python 3",
   "language": "python",
   "name": "python3"
  },
  "language_info": {
   "codemirror_mode": {
    "name": "ipython",
    "version": 3
   },
   "file_extension": ".py",
   "mimetype": "text/x-python",
   "name": "python",
   "nbconvert_exporter": "python",
   "pygments_lexer": "ipython3",
   "version": "3.7.6"
  }
 },
 "nbformat": 4,
 "nbformat_minor": 4
}
