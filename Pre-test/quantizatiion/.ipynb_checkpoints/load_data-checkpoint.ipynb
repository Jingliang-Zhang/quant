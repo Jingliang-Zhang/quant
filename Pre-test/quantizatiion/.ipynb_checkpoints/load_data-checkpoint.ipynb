{
 "cells": [
  {
   "cell_type": "code",
   "execution_count": 30,
   "metadata": {},
   "outputs": [],
   "source": [
    "import os\n",
    "import numpy as np\n",
    "import pandas as pd\n",
    "from progress.bar import Bar\n",
    "import logging\n",
    "import time\n",
    "import tqdm\n",
    "\n",
    "Global_DB = {}\n",
    "PATH = 'C:\\\\export\\\\sha_set'\n",
    "WORKING_DIR = 'C:\\\\export'"
   ]
  },
  {
   "cell_type": "code",
   "execution_count": 31,
   "metadata": {},
   "outputs": [],
   "source": [
    "def init_change_rate(db):\n",
    "    for stock_type in db:\n",
    "        for stock_id in db[stock_type]:\n",
    "            db[stock_type][stock_id]['Change'] = db[stock_type][stock_id]['Close'].pct_change().fillna(0)\n",
    "            db[stock_type][stock_id]['Change_Week'] = db[stock_type][stock_id]['Close'].pct_change(periods=7).fillna(0)\n",
    "            db[stock_type][stock_id]['Change_Month'] = db[stock_type][stock_id]['Close'].pct_change(periods=30).fillna(0)"
   ]
  },
  {
   "cell_type": "code",
   "execution_count": 32,
   "metadata": {},
   "outputs": [],
   "source": [
    "def add_stock_name(db):\n",
    "    for stock_type in db:\n",
    "        for stock_id in db[stock_type]:\n",
    "            db[stock_type][stock_id]['Name'] = stock_id"
   ]
  },
  {
   "cell_type": "code",
   "execution_count": 33,
   "metadata": {},
   "outputs": [],
   "source": [
    "def load_data(path):\n",
    "    logging.info('Reading stock data files under directory {}'.format(path))\n",
    "    stock_types = os.listdir(path)\n",
    "    for stock_type in stock_types:\n",
    "        if os.path.isdir(path + '\\\\' + stock_type):\n",
    "            logging.info('Start loading {} stock data'.format(stock_type))\n",
    "            stock_cnt = 0\n",
    "            Global_DB[stock_type] = {}\n",
    "            start_time = time.time()\n",
    "            stock_ids = os.listdir(path + '\\\\' + stock_type)\n",
    "            stock_ids_cnt = len(stock_ids)\n",
    "\n",
    "            progress_bar = Bar('Loading ' + stock_type + ' stock data', max=stock_ids_cnt)\n",
    "            progress_bar.check_tty = False\n",
    "            \n",
    "            #progress_bar = tqdm.tqdm(total=stock_ids_cnt, desc='Epoch', position=0)\n",
    "            \n",
    "            for stock_id in stock_ids:\n",
    "                df = pd.read_csv(path + '\\\\' + stock_type + '\\\\' + stock_id, delimiter='\t', \n",
    "                                 encoding='latin_1', header=1, engine='python',\n",
    "                                 skipfooter=2,\n",
    "                                 names=['Date', 'Open', 'High', 'Low', 'Close', 'Volume', 'Volume_Amount'],\n",
    "                                 index_col=0, parse_dates=True)\n",
    "                if df.shape[0] != 0:\n",
    "                    Global_DB[stock_type][stock_id.replace('.txt', '')] = df\n",
    "                    stock_cnt += 1\n",
    "                #progress_bar.update(1)\n",
    "                progress_bar.next()\n",
    "            progress_bar.finish()\n",
    "            logging.info('End loading {} stock data, {} stocks actually loaded, elapsed time {} seconds'.format(stock_type, stock_cnt, round(time.time() - start_time)))\n",
    "\n",
    "    logging.info('End reading stock data files under directory {}'.format(path))\n",
    "    \n",
    "    # Generate change rate based on 'Close'\n",
    "    init_change_rate(Global_DB)\n",
    "    add_stock_name(Global_DB)\n"
   ]
  },
  {
   "cell_type": "code",
   "execution_count": 34,
   "metadata": {},
   "outputs": [
    {
     "name": "stderr",
     "output_type": "stream",
     "text": [
      "\u001b[KLoading sha stock data |################################| 2/2\n",
      "\u001b[KLoading shb stock data |################################| 2/2\n",
      "\u001b[KLoading sza stock data |################################| 2/2\n",
      "\u001b[KLoading szb stock data |################################| 2/2\n",
      "\u001b[?25h"
     ]
    }
   ],
   "source": [
    "load_data(PATH)"
   ]
  },
  {
   "cell_type": "code",
   "execution_count": null,
   "metadata": {},
   "outputs": [],
   "source": []
  }
 ],
 "metadata": {
  "kernelspec": {
   "display_name": "Python 3",
   "language": "python",
   "name": "python3"
  },
  "language_info": {
   "codemirror_mode": {
    "name": "ipython",
    "version": 3
   },
   "file_extension": ".py",
   "mimetype": "text/x-python",
   "name": "python",
   "nbconvert_exporter": "python",
   "pygments_lexer": "ipython3",
   "version": "3.7.6"
  }
 },
 "nbformat": 4,
 "nbformat_minor": 4
}
