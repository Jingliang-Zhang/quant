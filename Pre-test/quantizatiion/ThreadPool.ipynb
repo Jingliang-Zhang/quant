{
 "cells": [
  {
   "cell_type": "code",
   "execution_count": 1,
   "metadata": {},
   "outputs": [],
   "source": [
    "from multiprocessing import Pool\n",
    "from multiprocessing import Process\n",
    "import logging\n",
    "from progress.bar import Bar\n",
    "import threading\n",
    "import time"
   ]
  },
  {
   "cell_type": "code",
   "execution_count": 2,
   "metadata": {},
   "outputs": [],
   "source": [
    "class AsyncThread:\n",
    "    \n",
    "    def __init__(self):\n",
    "        self.thread = threading.Thread(target=self.run)\n",
    "        self.active = True\n",
    "        self.thread.start()\n",
    "        \n",
    "    def run(self):\n",
    "        while(self.active):\n",
    "            print(time.time())\n",
    "            time.sleep(1)\n",
    "\n",
    "    def join(self):\n",
    "        self.active = False\n",
    "        self.thread.join()\n",
    "        \n",
    "class AsyncSchduler:\n",
    "    \n",
    "    def __init__(self, nthreads):\n",
    "        self.nthreads = nthreads\n",
    "        threads = []\n",
    "        for _ in range(nthreads):\n",
    "            x = AsyncThread()\n",
    "            threads.append(x)\n",
    "            \n",
    "    def run(self):\n",
    "        print()\n",
    "        "
   ]
  },
  {
   "cell_type": "code",
   "execution_count": 3,
   "metadata": {},
   "outputs": [],
   "source": [
    "#schd = AsyncSchduler(2)\n",
    "#t = AsyncThread()"
   ]
  },
  {
   "cell_type": "code",
   "execution_count": 4,
   "metadata": {},
   "outputs": [],
   "source": [
    "#t.join()"
   ]
  },
  {
   "cell_type": "code",
   "execution_count": 5,
   "metadata": {},
   "outputs": [],
   "source": [
    "#help(threading.Thread)"
   ]
  },
  {
   "cell_type": "code",
   "execution_count": 6,
   "metadata": {},
   "outputs": [
    {
     "name": "stdout",
     "output_type": "stream",
     "text": [
      "'http://some-made-up-domain.com/' generated an exception: HTTP Error 403: Proxy Unacknowledged\n",
      "'http://europe.wsj.com/' generated an exception: HTTP Error 404: Not Found\n",
      "'http://www.cnn.com/' generated an exception: [WinError 10054] An existing connection was forcibly closed by the remote host\n",
      "'http://www.bbc.co.uk/' page is 278154 bytes\n",
      "'http://www.foxnews.com/' page is 330412 bytes\n"
     ]
    }
   ],
   "source": [
    "import concurrent.futures\n",
    "import urllib.request\n",
    "\n",
    "URLS = ['http://www.foxnews.com/',\n",
    "        'http://www.cnn.com/',\n",
    "        'http://europe.wsj.com/',\n",
    "        'http://www.bbc.co.uk/',\n",
    "        'http://some-made-up-domain.com/']\n",
    "\n",
    "# Retrieve a single page and report the URL and contents\n",
    "def load_url(url, timeout):\n",
    "    with urllib.request.urlopen(url, timeout=timeout) as conn:\n",
    "        return conn.read()\n",
    "\n",
    "# We can use a with statement to ensure threads are cleaned up promptly\n",
    "with concurrent.futures.ThreadPoolExecutor(max_workers=5) as executor:\n",
    "    # Start the load operations and mark each future with its URL\n",
    "    future_to_url = {executor.submit(load_url, url, 60): url for url in URLS}\n",
    "    for future in concurrent.futures.as_completed(future_to_url):\n",
    "        url = future_to_url[future]\n",
    "        try:\n",
    "            data = future.result()\n",
    "        except Exception as exc:\n",
    "            print('%r generated an exception: %s' % (url, exc))\n",
    "        else:\n",
    "            print('%r page is %d bytes' % (url, len(data)))"
   ]
  },
  {
   "cell_type": "code",
   "execution_count": 7,
   "metadata": {},
   "outputs": [],
   "source": [
    "from concurrent.futures import ThreadPoolExecutor"
   ]
  },
  {
   "cell_type": "code",
   "execution_count": 8,
   "metadata": {},
   "outputs": [
    {
     "name": "stdout",
     "output_type": "stream",
     "text": [
      "Executing our Task\n",
      "I: 45\n",
      "Task Executed <Thread(ThreadPoolExecutor-1_0, started daemon 1532)>\n",
      "Executing our Task\n",
      "I: 45\n",
      "Task Executed <Thread(ThreadPoolExecutor-1_1, started daemon 11788)>\n"
     ]
    }
   ],
   "source": [
    "from concurrent.futures import ThreadPoolExecutor\n",
    "import threading\n",
    "import random\n",
    "\n",
    "def task():\n",
    "    print(\"Executing our Task\")\n",
    "    result = 0\n",
    "    i = 0\n",
    "    for i in range(10):\n",
    "        result = result + i\n",
    "    print(\"I: {}\".format(result))\n",
    "    print(\"Task Executed {}\".format(threading.current_thread()))\n",
    "\n",
    "def func():\n",
    "    executor = ThreadPoolExecutor(max_workers=3)\n",
    "    task1 = executor.submit(task)\n",
    "    task2 = executor.submit(task)\n",
    "\n",
    "func()"
   ]
  },
  {
   "cell_type": "code",
   "execution_count": 9,
   "metadata": {
    "scrolled": true
   },
   "outputs": [
    {
     "name": "stdout",
     "output_type": "stream",
     "text": [
      "Help on class ThreadPoolExecutor in module concurrent.futures.thread:\n",
      "\n",
      "class ThreadPoolExecutor(concurrent.futures._base.Executor)\n",
      " |  ThreadPoolExecutor(max_workers=None, thread_name_prefix='', initializer=None, initargs=())\n",
      " |  \n",
      " |  This is an abstract base class for concrete asynchronous executors.\n",
      " |  \n",
      " |  Method resolution order:\n",
      " |      ThreadPoolExecutor\n",
      " |      concurrent.futures._base.Executor\n",
      " |      builtins.object\n",
      " |  \n",
      " |  Methods defined here:\n",
      " |  \n",
      " |  __init__(self, max_workers=None, thread_name_prefix='', initializer=None, initargs=())\n",
      " |      Initializes a new ThreadPoolExecutor instance.\n",
      " |      \n",
      " |      Args:\n",
      " |          max_workers: The maximum number of threads that can be used to\n",
      " |              execute the given calls.\n",
      " |          thread_name_prefix: An optional name prefix to give our threads.\n",
      " |          initializer: A callable used to initialize worker threads.\n",
      " |          initargs: A tuple of arguments to pass to the initializer.\n",
      " |  \n",
      " |  shutdown(self, wait=True)\n",
      " |      Clean-up the resources associated with the Executor.\n",
      " |      \n",
      " |      It is safe to call this method several times. Otherwise, no other\n",
      " |      methods can be called after this one.\n",
      " |      \n",
      " |      Args:\n",
      " |          wait: If True then shutdown will not return until all running\n",
      " |              futures have finished executing and the resources used by the\n",
      " |              executor have been reclaimed.\n",
      " |  \n",
      " |  submit(*args, **kwargs)\n",
      " |      Submits a callable to be executed with the given arguments.\n",
      " |      \n",
      " |      Schedules the callable to be executed as fn(*args, **kwargs) and returns\n",
      " |      a Future instance representing the execution of the callable.\n",
      " |      \n",
      " |      Returns:\n",
      " |          A Future representing the given call.\n",
      " |  \n",
      " |  ----------------------------------------------------------------------\n",
      " |  Methods inherited from concurrent.futures._base.Executor:\n",
      " |  \n",
      " |  __enter__(self)\n",
      " |  \n",
      " |  __exit__(self, exc_type, exc_val, exc_tb)\n",
      " |  \n",
      " |  map(self, fn, *iterables, timeout=None, chunksize=1)\n",
      " |      Returns an iterator equivalent to map(fn, iter).\n",
      " |      \n",
      " |      Args:\n",
      " |          fn: A callable that will take as many arguments as there are\n",
      " |              passed iterables.\n",
      " |          timeout: The maximum number of seconds to wait. If None, then there\n",
      " |              is no limit on the wait time.\n",
      " |          chunksize: The size of the chunks the iterable will be broken into\n",
      " |              before being passed to a child process. This argument is only\n",
      " |              used by ProcessPoolExecutor; it is ignored by\n",
      " |              ThreadPoolExecutor.\n",
      " |      \n",
      " |      Returns:\n",
      " |          An iterator equivalent to: map(func, *iterables) but the calls may\n",
      " |          be evaluated out-of-order.\n",
      " |      \n",
      " |      Raises:\n",
      " |          TimeoutError: If the entire result iterator could not be generated\n",
      " |              before the given timeout.\n",
      " |          Exception: If fn(*args) raises for any values.\n",
      " |  \n",
      " |  ----------------------------------------------------------------------\n",
      " |  Data descriptors inherited from concurrent.futures._base.Executor:\n",
      " |  \n",
      " |  __dict__\n",
      " |      dictionary for instance variables (if defined)\n",
      " |  \n",
      " |  __weakref__\n",
      " |      list of weak references to the object (if defined)\n",
      "\n"
     ]
    }
   ],
   "source": [
    "help(ThreadPoolExecutor)"
   ]
  },
  {
   "cell_type": "code",
   "execution_count": null,
   "metadata": {},
   "outputs": [],
   "source": []
  }
 ],
 "metadata": {
  "kernelspec": {
   "display_name": "Python 3",
   "language": "python",
   "name": "python3"
  },
  "language_info": {
   "codemirror_mode": {
    "name": "ipython",
    "version": 3
   },
   "file_extension": ".py",
   "mimetype": "text/x-python",
   "name": "python",
   "nbconvert_exporter": "python",
   "pygments_lexer": "ipython3",
   "version": "3.7.6"
  }
 },
 "nbformat": 4,
 "nbformat_minor": 4
}
